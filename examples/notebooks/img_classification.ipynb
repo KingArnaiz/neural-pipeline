{
 "cells": [
  {
   "cell_type": "code",
   "execution_count": null,
   "metadata": {},
   "outputs": [],
   "source": [
    "from neural_pipeline.data_producer import DataProducer, AbstractDataset\n",
    "from neural_pipeline.train_config import TrainConfig, TrainStage, ValidationStage\n",
    "from neural_pipeline import Trainer\n",
    "from neural_pipeline.utils.file_structure_manager import FileStructManager\n",
    "\n",
    "import torch\n",
    "from torch import nn\n",
    "import torch.nn.functional as F\n",
    "from torchvision import datasets, transforms"
   ]
  },
  {
   "cell_type": "code",
   "execution_count": null,
   "metadata": {},
   "outputs": [],
   "source": [
    "checkpoints_dir, logdir = 'data/checkpoints', 'data/logs'"
   ]
  },
  {
   "cell_type": "code",
   "execution_count": null,
   "metadata": {},
   "outputs": [],
   "source": [
    "class Net(nn.Module):\n",
    "    def __init__(self):\n",
    "        super(Net, self).__init__()\n",
    "        self.conv1 = nn.Conv2d(1, 20, 5, 1)\n",
    "        self.conv2 = nn.Conv2d(20, 50, 5, 1)\n",
    "        self.fc1 = nn.Linear(4 * 4 * 50, 500)\n",
    "        self.fc2 = nn.Linear(500, 10)\n",
    "\n",
    "    def forward(self, x):\n",
    "        x = F.relu(self.conv1(x))\n",
    "        x = F.max_pool2d(x, 2, 2)\n",
    "        x = F.relu(self.conv2(x))\n",
    "        x = F.max_pool2d(x, 2, 2)\n",
    "        x = x.view(-1, 4 * 4 * 50)\n",
    "        x = F.relu(self.fc1(x))\n",
    "        x = self.fc2(x)\n",
    "        return F.log_softmax(x, dim=1)"
   ]
  },
  {
   "cell_type": "markdown",
   "metadata": {},
   "source": [
    "Lets define metrics"
   ]
  },
  {
   "cell_type": "code",
   "execution_count": null,
   "metadata": {},
   "outputs": [],
   "source": [
    "class NLLLoss(torch.nn.Module):\n",
    "    def forward(self, output: torch.Tensor, target: torch.Tensor):\n",
    "        return F.nll_loss(output, target)"
   ]
  },
  {
   "cell_type": "code",
   "execution_count": null,
   "metadata": {},
   "outputs": [],
   "source": [
    "class MNISTDataset(AbstractDataset):\n",
    "    transforms = transforms.Compose([transforms.ToTensor(),\n",
    "                                     transforms.Normalize((0.1307,), (0.3081,))])\n",
    "\n",
    "    def __init__(self, data_dir: str, is_train: bool):\n",
    "        self.dataset = datasets.MNIST(data_dir, train=is_train, download=True)\n",
    "\n",
    "    def __len__(self):\n",
    "        return len(self.dataset)\n",
    "\n",
    "    def __getitem__(self, item):\n",
    "        data, target = self.dataset[item]\n",
    "        return {'data': self.transforms(data), 'target': target}"
   ]
  },
  {
   "cell_type": "code",
   "execution_count": null,
   "metadata": {},
   "outputs": [],
   "source": [
    "checkpoints_dir, logdir = 'data/checkpoints', 'data/logs'\n",
    "\n",
    "fsm = FileStructManager(checkpoint_dir_path=checkpoints_dir, logdir_path=logdir, prefix=None)\n",
    "model = Net()\n",
    "\n",
    "train_dataset = DataProducer([MNISTDataset('data/dataset', True)],\n",
    "                             batch_size=4, num_workers=2)\n",
    "validation_dataset = DataProducer([MNISTDataset('data/dataset', False)],\n",
    "                                  batch_size=4, num_workers=2)\n",
    "\n",
    "train_config = TrainConfig([TrainStage(train_dataset), ValidationStage(validation_dataset)],\n",
    "                           NLLLoss(), torch.optim.SGD(model.parameters(), lr=1e-4, momentum=0.5),\n",
    "                           experiment_name='train_mnist')\n",
    "\n",
    "Trainer(model, train_config, fsm, is_cuda=True).set_epoch_num(50).train()"
   ]
  }
 ],
 "metadata": {
  "kernelspec": {
   "display_name": "Python 3",
   "language": "python",
   "name": "python3"
  },
  "language_info": {
   "codemirror_mode": {
    "name": "ipython",
    "version": 3
   },
   "file_extension": ".py",
   "mimetype": "text/x-python",
   "name": "python",
   "nbconvert_exporter": "python",
   "pygments_lexer": "ipython3",
   "version": "3.6.4"
  }
 },
 "nbformat": 4,
 "nbformat_minor": 1
}
